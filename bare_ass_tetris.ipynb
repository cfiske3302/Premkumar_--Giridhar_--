{
 "cells": [
  {
   "cell_type": "code",
   "execution_count": 1,
   "metadata": {},
   "outputs": [
    {
     "name": "stdout",
     "output_type": "stream",
     "text": [
      "pygame 2.5.2 (SDL 2.28.3, Python 3.10.13)\n",
      "Hello from the pygame community. https://www.pygame.org/contribute.html\n"
     ]
    }
   ],
   "source": [
    "import numpy as np\n",
    "import sys\n",
    "import matplotlib.pyplot as plt\n",
    "\n",
    "sys.path.insert(0, './TetrisEnv')\n",
    "from TetrisBattle.envs.tetris_env import TetrisSingleEnv, TetrisEnv\n",
    "from TetrisBattle import *\n",
    "from Model.Feature_Extraction import TetrisActorCriticCnnPolicy, TetrisDQNCnnPolicy\n",
    "# %pip install -e ./TetrisEnv\n",
    "# import TetrisBattle\n",
    "%load_ext autoreload\n",
    "%autoreload 2\n",
    "# from gym import make\n",
    "# env = make('SinglePTetris-v0')"
   ]
  },
  {
   "cell_type": "code",
   "execution_count": 2,
   "metadata": {},
   "outputs": [],
   "source": [
    "from gym.wrappers import GrayScaleObservation\n",
    "from preprocessing.EensyWeensy import MakeEensyWeensy\n",
    "from preprocessing.NewReduceActions import ReduceActions\n",
    "from stable_baselines3.common.vec_env import VecFrameStack\n",
    "from stable_baselines3.common.env_util import make_vec_env\n",
    "\n",
    "env = TetrisSingleEnv(obs_type='grid')\n",
    "# env = GrayScaleObservation(env, keep_dim=True)\n",
    "# env = MakeEensyWeensy(env, cut_in_half=True, scale=.25)\n",
    "env = ReduceActions(env)\n",
    "env = make_vec_env(lambda: ReduceActions(TetrisSingleEnv(obs_type='grid')), n_envs = 1)\n",
    "# env = VecFrameStack(env, 4, channels_order=\"last\")\n",
    "# ob = env.reset()\n",
    "# plt.imshow(ob, cmap=\"plasma\")"
   ]
  },
  {
   "cell_type": "code",
   "execution_count": 3,
   "metadata": {},
   "outputs": [],
   "source": [
    "# env = TetrisSingleEnv()\n",
    "# env = ReduceActions(env)\n",
    "# env.reset()\n",
    "# for i in range(1000):\n",
    "#     # action = int(input('>'))\n",
    "#     action = env.action_space.sample()\n",
    "#     # print('block level action', action)\n",
    "#     state, reward, done, info = env.step(action)\n",
    "#     # print('reward', reward)\n",
    "#     if done:\n",
    "#         env.reset()\n",
    "#     env.render()\n",
    "\n",
    "# env.close()"
   ]
  },
  {
   "cell_type": "code",
   "execution_count": 4,
   "metadata": {},
   "outputs": [
    {
     "name": "stdout",
     "output_type": "stream",
     "text": [
      "True\n"
     ]
    }
   ],
   "source": [
    "import os \n",
    "from stable_baselines3 import PPO, DQN\n",
    "from stable_baselines3.common.callbacks import BaseCallback\n",
    "from stable_baselines3.common.env_checker import check_env\n",
    "import torch\n",
    "print(torch.cuda.is_available())\n",
    "# check_env(env)"
   ]
  },
  {
   "cell_type": "code",
   "execution_count": 5,
   "metadata": {},
   "outputs": [],
   "source": [
    "class TrainAndLoggingCallback(BaseCallback):\n",
    "\n",
    "    def __init__(self, check_freq, save_path, verbose=1):\n",
    "        super(TrainAndLoggingCallback, self).__init__(verbose)\n",
    "        self.check_freq = check_freq\n",
    "        self.save_path = save_path\n",
    "\n",
    "    def _init_callback(self):\n",
    "        if self.save_path is not None:\n",
    "            os.makedirs(self.save_path, exist_ok=True)\n",
    "\n",
    "    def _on_step(self):\n",
    "        if self.n_calls % self.check_freq == 0:\n",
    "            model_path = os.path.join(self.save_path, 'best_model_{}'.format(self.n_calls))\n",
    "            self.model.save(model_path)\n",
    "\n",
    "        return True\n",
    "    \n",
    "CHECKPOINT_DIR = './train/'\n",
    "LOG_DIR = './logs/'\n",
    "\n",
    "callback = TrainAndLoggingCallback(check_freq=100000, save_path=CHECKPOINT_DIR)"
   ]
  },
  {
   "cell_type": "code",
   "execution_count": 6,
   "metadata": {},
   "outputs": [
    {
     "name": "stdout",
     "output_type": "stream",
     "text": [
      "Using cuda device\n"
     ]
    }
   ],
   "source": [
    "try:\n",
    "    del model\n",
    "except NameError:\n",
    "    pass\n",
    "# model = PPO(TetrisActorCriticCnnPolicy, env, verbose=1, tensorboard_log=LOG_DIR, learning_rate=1e-4, n_steps=8, batch_size=8, device=\"cuda\")\n",
    "# model = PPO.load('./train/starting')\n",
    "# model = DQN(TetrisDQNCnnPolicy, env, verbose = 1, tensorboard_log=LOG_DIR, learning_rate = 1e-4, train_freq=8, device=\"cuda\")\n",
    "\n",
    "model = DQN(TetrisDQNCnnPolicy, env, verbose = 1, tensorboard_log=LOG_DIR, \n",
    "            gamma = 0.98,\n",
    "            buffer_size=20000,\n",
    "            batch_size=512,\n",
    "            exploration_initial_eps=1,\n",
    "            exploration_final_eps=0.005,\n",
    "            exploration_fraction=0.1,\n",
    "            learning_rate = 0.005,\n",
    "            train_freq=(1, 'episode'),\n",
    "            device=\"cuda\")\n",
    "\n",
    "# model = DQN.set_parameters(load_path_or_dict='./train/starting')\n",
    "# model.set_env(env)"
   ]
  },
  {
   "cell_type": "code",
   "execution_count": 7,
   "metadata": {},
   "outputs": [],
   "source": [
    "# model.learn(total_timesteps=2000000, callback=callback)"
   ]
  },
  {
   "cell_type": "code",
   "execution_count": 8,
   "metadata": {},
   "outputs": [],
   "source": [
    "# model = PPO.load('./train/best_model_1000000')\n",
    "# # model = DQN.load('./train/best_model_100000')\n",
    "# env = TetrisSingleEnv(obs_type='grid')\n",
    "# # env = GrayScaleObservation(env, keep_dim=True)\n",
    "# # env = MakeEensyWeensy(env, cut_in_half=True, scale=.25)\n",
    "# env = ReduceActions(env)\n",
    "# # env = DummyVecEnv([lambda: env])\n",
    "# # env = VecFrameStack(env, 4, channels_order=\"last\")\n",
    "# state = env.reset()\n",
    "# done = False\n",
    "# actions = []\n",
    "\n",
    "# try:\n",
    "#     for i in range(0, 10000):\n",
    "#         if done:\n",
    "#             state = env.reset()\n",
    "#         action, _ = model.predict(state)\n",
    "#         # action = env.action_space.sample()\n",
    "#         actions.append(action)\n",
    "#         state, reward, done, info = env.step(action)\n",
    "#         env.render()\n",
    "# except KeyboardInterrupt:\n",
    "#     pass\n",
    "# env.close()\n",
    "# plt.hist(actions, bins = 34, range = (0, 34))"
   ]
  },
  {
   "cell_type": "code",
   "execution_count": null,
   "metadata": {},
   "outputs": [],
   "source": [
    "# class InputGetter():\n",
    "#     def __init__(self):\n",
    "#         self.input_log = []\n",
    "        \n",
    "#     def get_input(self):\n",
    "#         while True:\n",
    "#             try:\n",
    "#                 if len(self.input_log) == 0:\n",
    "#                     self.input_log = [*input(\">\")]\n",
    "                \n",
    "#                 inp = self.input_log.pop(0)\n",
    "#                 inp = int(inp)\n",
    "#                 assert(inp in [0, 1, 2, 3, 4, 5, 6, 7, 9])\n",
    "#                 return inp\n",
    "#             except Exception as e:\n",
    "#                 print(e)\n",
    "# env = TetrisSingleEnv(obs_type=\"grid\")\n",
    "# i = 0\n",
    "# inputter = InputGetter()\n",
    "# while True:\n",
    "#     action = inputter.get_input()\n",
    "#     if action == 9:\n",
    "#         env.close()\n",
    "#         break\n",
    "#     state, reward, done, info = env.step(action)\n",
    "#     # print(\"infow\", info)\n",
    "#     # print(\"rewrd\",reward)\n",
    "#     env.render()\n",
    "#     # print(env.game_interface.get_obs().shape)\n",
    "#     grid = env.game_interface.get_obs()"
   ]
  }
 ],
 "metadata": {
  "kernelspec": {
   "display_name": "Python 3 (ipykernel)",
   "language": "python",
   "name": "python3"
  },
  "language_info": {
   "codemirror_mode": {
    "name": "ipython",
    "version": 3
   },
   "file_extension": ".py",
   "mimetype": "text/x-python",
   "name": "python",
   "nbconvert_exporter": "python",
   "pygments_lexer": "ipython3",
   "version": "3.10.13"
  }
 },
 "nbformat": 4,
 "nbformat_minor": 4
}
