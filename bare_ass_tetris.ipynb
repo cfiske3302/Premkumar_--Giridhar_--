{
    "cells": [
        {
            "cell_type": "code",
            "execution_count": 1,
            "metadata": {},
            "outputs": [
                {
                    "name": "stdout",
                    "output_type": "stream",
                    "text": [
                        "pygame 2.5.2 (SDL 2.28.3, Python 3.10.13)\n",
                        "Hello from the pygame community. https://www.pygame.org/contribute.html\n"
                    ]
                }
            ],
            "source": [
                "import numpy as np\n",
                "import sys\n",
                "import matplotlib.pyplot as plt\n",
                "import gym\n",
                "\n",
                "sys.path.insert(0, './TetrisEnv')\n",
                "from TetrisBattle.envs.tetris_env import TetrisSingleEnv, TetrisEnv\n",
                "from TetrisBattle import *\n",
                "from Model.Feature_Extraction import TetrisActorCriticCnnPolicy\n",
                "# %pip install -e ./TetrisEnv\n",
                "# import TetrisBattle"
            ]
        },
        {
            "cell_type": "code",
            "execution_count": 2,
            "metadata": {},
            "outputs": [],
            "source": [
                "%load_ext autoreload\n",
                "%autoreload 2"
            ]
        },
        {
            "cell_type": "code",
            "execution_count": 5,
            "metadata": {},
            "outputs": [],
            "source": [
                "class InputGetter():\n",
                "    def __init__(self):\n",
                "        self.input_log = []\n",
                "        \n",
                "    def get_input(self):\n",
                "        while True:\n",
                "            try:\n",
                "                if len(self.input_log) == 0:\n",
                "                    self.input_log = [*input(\">\")]\n",
                "                \n",
                "                inp = self.input_log.pop(0)\n",
                "                inp = int(inp)\n",
                "                assert(inp in [0, 1, 2, 3, 4, 5, 6, 7, 9])\n",
                "                return inp\n",
                "            except Exception as e:\n",
                "                print(e)"
            ]
        },
        {
            "cell_type": "code",
            "execution_count": null,
            "metadata": {},
            "outputs": [],
            "source": [
                "env = TetrisSingleEnv(obs_type=\"lookahead\")\n",
                "env.reset()\n",
                "env.render()\n",
                "i = 0\n",
                "inputter = InputGetter()\n",
                "while True:\n",
                "    action = inputter.get_input()\n",
                "    if action == 9:\n",
                "        env.close()\n",
                "        break\n",
                "    state, reward, done, info = env.step(env.action_space.sample())\n",
                "    # print(\"infow\", info)\n",
                "    # print(\"rewrd\",reward)\n",
                "    env.render()\n",
                "    print(state.shape)\n",
                "    print(list(state))\n",
                "    # print(env.game_interface.get_obs().shape)\n",
                "    grid = env.game_interface.get_obs()"
            ]
        },
        {
            "cell_type": "code",
            "execution_count": 27,
            "metadata": {},
            "outputs": [
                {
                    "data": {
                        "text/plain": [
                            "(60, 10, 20)"
                        ]
                    },
                    "execution_count": 27,
                    "metadata": {},
                    "output_type": "execute_result"
                }
            ],
            "source": [
                "state.shape"
            ]
        },
        {
            "cell_type": "code",
            "execution_count": 3,
            "metadata": {},
            "outputs": [
                {
                    "ename": "NameError",
                    "evalue": "name 'state' is not defined",
                    "output_type": "error",
                    "traceback": [
                        "\u001b[0;31m---------------------------------------------------------------------------\u001b[0m",
                        "\u001b[0;31mNameError\u001b[0m                                 Traceback (most recent call last)",
                        "Cell \u001b[0;32mIn[3], line 2\u001b[0m\n\u001b[1;32m      1\u001b[0m \u001b[38;5;28;01mfrom\u001b[39;00m \u001b[38;5;21;01mModel\u001b[39;00m\u001b[38;5;21;01m.\u001b[39;00m\u001b[38;5;21;01mFeature_Extraction\u001b[39;00m \u001b[38;5;28;01mimport\u001b[39;00m TetisFeatureExtractor\n\u001b[0;32m----> 2\u001b[0m fe \u001b[38;5;241m=\u001b[39m TetisFeatureExtractor(\u001b[43mstate\u001b[49m)\n\u001b[1;32m      3\u001b[0m fe(grid)\n",
                        "\u001b[0;31mNameError\u001b[0m: name 'state' is not defined"
                    ]
                }
            ],
            "source": [
                "from Model.Feature_Extraction import TetisFeatureExtractor\n",
                "fe = TetisFeatureExtractor(state)\n",
                "fe(grid)"
            ]
        },
        {
            "cell_type": "code",
            "execution_count": null,
            "metadata": {},
            "outputs": [],
            "source": [
                "env = TetrisSingleEnv()\n",
                "i = 0\n",
                "inputter = InputGetter()\n",
                "while True:\n",
                "    action = inputter.get_input()\n",
                "    if action == 9:\n",
                "        env.close()\n",
                "        break\n",
                "    state, reward, done, info = env.og_step(action)\n",
                "    print(\"infow\", info)\n",
                "    print(\"rewrd\",reward)\n",
                "    env.render()\n",
                "    print(env.get_obs())"
            ]
        },
        {
            "cell_type": "code",
            "execution_count": null,
            "metadata": {},
            "outputs": [],
            "source": [
                "\n",
                "# env = make('SinglePTetris-v0')\n",
                "env = TetrisSingleEnv()\n",
                "ob = env.reset()\n",
                "dots = np.ones((20, 10))\n",
                "x = 100\n",
                "y = 130\n",
                "ob[x:x+10,y:y+10] = [255,255,255]\n",
                "plt.imshow(ob, cmap=\"plasma\")\n"
            ]
        },
        {
            "cell_type": "code",
            "execution_count": null,
            "metadata": {},
            "outputs": [],
            "source": []
        },
        {
            "cell_type": "code",
            "execution_count": 5,
            "metadata": {},
            "outputs": [
                {
                    "name": "stderr",
                    "output_type": "stream",
                    "text": [
                        "libpng warning: iCCP: known incorrect sRGB profile\n",
                        "libpng warning: iCCP: known incorrect sRGB profile\n",
                        "libpng warning: iCCP: known incorrect sRGB profile\n",
                        "libpng warning: iCCP: known incorrect sRGB profile\n",
                        "libpng warning: iCCP: known incorrect sRGB profile\n",
                        "libpng warning: iCCP: known incorrect sRGB profile\n",
                        "libpng warning: iCCP: known incorrect sRGB profile\n",
                        "libpng warning: iCCP: known incorrect sRGB profile\n",
                        "libpng warning: iCCP: known incorrect sRGB profile\n",
                        "libpng warning: iCCP: known incorrect sRGB profile\n",
                        "libpng warning: iCCP: known incorrect sRGB profile\n",
                        "libpng warning: iCCP: known incorrect sRGB profile\n",
                        "libpng warning: iCCP: known incorrect sRGB profile\n",
                        "libpng warning: iCCP: known incorrect sRGB profile\n",
                        "libpng warning: iCCP: known incorrect sRGB profile\n",
                        "libpng warning: iCCP: known incorrect sRGB profile\n",
                        "libpng warning: iCCP: known incorrect sRGB profile\n",
                        "libpng warning: iCCP: known incorrect sRGB profile\n",
                        "libpng warning: iCCP: known incorrect sRGB profile\n",
                        "libpng warning: iCCP: known incorrect sRGB profile\n",
                        "libpng warning: iCCP: known incorrect sRGB profile\n",
                        "libpng warning: iCCP: known incorrect sRGB profile\n",
                        "libpng warning: iCCP: known incorrect sRGB profile\n",
                        "libpng warning: iCCP: known incorrect sRGB profile\n",
                        "libpng warning: iCCP: known incorrect sRGB profile\n",
                        "libpng warning: iCCP: known incorrect sRGB profile\n",
                        "libpng warning: iCCP: known incorrect sRGB profile\n",
                        "libpng warning: iCCP: known incorrect sRGB profile\n",
                        "libpng warning: iCCP: known incorrect sRGB profile\n",
                        "libpng warning: iCCP: known incorrect sRGB profile\n",
                        "libpng warning: iCCP: known incorrect sRGB profile\n",
                        "libpng warning: iCCP: known incorrect sRGB profile\n",
                        "libpng warning: iCCP: known incorrect sRGB profile\n",
                        "libpng warning: iCCP: known incorrect sRGB profile\n"
                    ]
                },
                {
                    "name": "stdout",
                    "output_type": "stream",
                    "text": [
                        "(20, 34, 1) <class 'numpy.ndarray'>\n",
                        "(10, 1100, 1) <class 'numpy.ndarray'>\n"
                    ]
                }
            ],
            "source": [
                "from shimmy.openai_gym_compatibility import _convert_space\n",
                "lh_env = TetrisSingleEnv(obs_type=\"lookahead\")\n",
                "g_env = TetrisSingleEnv(obs_type=\"grid\")\n",
                "\n",
                "gs = g_env.reset()\n",
                "ls = lh_env.reset()\n",
                "print(gs.shape, type(gs))\n",
                "print(ls.shape, type(ls))\n",
                "# # _convert_space(g_env.observation_space)\n",
                "# # _convert_space(lh_env.observation_space)\n",
                "# # print(g_env.observation_space)\n",
                "# print(lh_env.observation_space)"
            ]
        },
        {
            "cell_type": "code",
            "execution_count": 6,
            "metadata": {},
            "outputs": [
                {
                    "data": {
                        "text/plain": [
                            "Box([[[0. 0. 0. ... 0. 0. 0.]\n",
                            "  [0. 0. 0. ... 0. 0. 0.]\n",
                            "  [0. 0. 0. ... 0. 0. 0.]\n",
                            "  ...\n",
                            "  [0. 0. 0. ... 0. 0. 0.]\n",
                            "  [0. 0. 0. ... 0. 0. 0.]\n",
                            "  [0. 0. 0. ... 0. 0. 0.]]\n",
                            "\n",
                            " [[0. 0. 0. ... 0. 0. 0.]\n",
                            "  [0. 0. 0. ... 0. 0. 0.]\n",
                            "  [0. 0. 0. ... 0. 0. 0.]\n",
                            "  ...\n",
                            "  [0. 0. 0. ... 0. 0. 0.]\n",
                            "  [0. 0. 0. ... 0. 0. 0.]\n",
                            "  [0. 0. 0. ... 0. 0. 0.]]\n",
                            "\n",
                            " [[0. 0. 0. ... 0. 0. 0.]\n",
                            "  [0. 0. 0. ... 0. 0. 0.]\n",
                            "  [0. 0. 0. ... 0. 0. 0.]\n",
                            "  ...\n",
                            "  [0. 0. 0. ... 0. 0. 0.]\n",
                            "  [0. 0. 0. ... 0. 0. 0.]\n",
                            "  [0. 0. 0. ... 0. 0. 0.]]\n",
                            "\n",
                            " ...\n",
                            "\n",
                            " [[0. 0. 0. ... 0. 0. 0.]\n",
                            "  [0. 0. 0. ... 0. 0. 0.]\n",
                            "  [0. 0. 0. ... 0. 0. 0.]\n",
                            "  ...\n",
                            "  [0. 0. 0. ... 0. 0. 0.]\n",
                            "  [0. 0. 0. ... 0. 0. 0.]\n",
                            "  [0. 0. 0. ... 0. 0. 0.]]\n",
                            "\n",
                            " [[0. 0. 0. ... 0. 0. 0.]\n",
                            "  [0. 0. 0. ... 0. 0. 0.]\n",
                            "  [0. 0. 0. ... 0. 0. 0.]\n",
                            "  ...\n",
                            "  [0. 0. 0. ... 0. 0. 0.]\n",
                            "  [0. 0. 0. ... 0. 0. 0.]\n",
                            "  [0. 0. 0. ... 0. 0. 0.]]\n",
                            "\n",
                            " [[0. 0. 0. ... 0. 0. 0.]\n",
                            "  [0. 0. 0. ... 0. 0. 0.]\n",
                            "  [0. 0. 0. ... 0. 0. 0.]\n",
                            "  ...\n",
                            "  [0. 0. 0. ... 0. 0. 0.]\n",
                            "  [0. 0. 0. ... 0. 0. 0.]\n",
                            "  [0. 0. 0. ... 0. 0. 0.]]], [[[1. 1. 1. ... 1. 1. 1.]\n",
                            "  [1. 1. 1. ... 1. 1. 1.]\n",
                            "  [1. 1. 1. ... 1. 1. 1.]\n",
                            "  ...\n",
                            "  [1. 1. 1. ... 1. 1. 1.]\n",
                            "  [1. 1. 1. ... 1. 1. 1.]\n",
                            "  [1. 1. 1. ... 1. 1. 1.]]\n",
                            "\n",
                            " [[1. 1. 1. ... 1. 1. 1.]\n",
                            "  [1. 1. 1. ... 1. 1. 1.]\n",
                            "  [1. 1. 1. ... 1. 1. 1.]\n",
                            "  ...\n",
                            "  [1. 1. 1. ... 1. 1. 1.]\n",
                            "  [1. 1. 1. ... 1. 1. 1.]\n",
                            "  [1. 1. 1. ... 1. 1. 1.]]\n",
                            "\n",
                            " [[1. 1. 1. ... 1. 1. 1.]\n",
                            "  [1. 1. 1. ... 1. 1. 1.]\n",
                            "  [1. 1. 1. ... 1. 1. 1.]\n",
                            "  ...\n",
                            "  [1. 1. 1. ... 1. 1. 1.]\n",
                            "  [1. 1. 1. ... 1. 1. 1.]\n",
                            "  [1. 1. 1. ... 1. 1. 1.]]\n",
                            "\n",
                            " ...\n",
                            "\n",
                            " [[1. 1. 1. ... 1. 1. 1.]\n",
                            "  [1. 1. 1. ... 1. 1. 1.]\n",
                            "  [1. 1. 1. ... 1. 1. 1.]\n",
                            "  ...\n",
                            "  [1. 1. 1. ... 1. 1. 1.]\n",
                            "  [1. 1. 1. ... 1. 1. 1.]\n",
                            "  [1. 1. 1. ... 1. 1. 1.]]\n",
                            "\n",
                            " [[1. 1. 1. ... 1. 1. 1.]\n",
                            "  [1. 1. 1. ... 1. 1. 1.]\n",
                            "  [1. 1. 1. ... 1. 1. 1.]\n",
                            "  ...\n",
                            "  [1. 1. 1. ... 1. 1. 1.]\n",
                            "  [1. 1. 1. ... 1. 1. 1.]\n",
                            "  [1. 1. 1. ... 1. 1. 1.]]\n",
                            "\n",
                            " [[1. 1. 1. ... 1. 1. 1.]\n",
                            "  [1. 1. 1. ... 1. 1. 1.]\n",
                            "  [1. 1. 1. ... 1. 1. 1.]\n",
                            "  ...\n",
                            "  [1. 1. 1. ... 1. 1. 1.]\n",
                            "  [1. 1. 1. ... 1. 1. 1.]\n",
                            "  [1. 1. 1. ... 1. 1. 1.]]], (55, 20, 10), float32)"
                        ]
                    },
                    "execution_count": 6,
                    "metadata": {},
                    "output_type": "execute_result"
                }
            ],
            "source": [
                "from gym import spaces\n",
                "\n",
                "spaces.Box(\n",
                "                low=0,\n",
                "                high=1,\n",
                "                shape=[55,20,10],\n",
                "                dtype=np.float32,\n",
                "            )"
            ]
        },
        {
            "cell_type": "code",
            "execution_count": null,
            "metadata": {},
            "outputs": [],
            "source": [
                "from shimmy.openai_gym_compatibility import _convert_space\n",
                "lh_env = TetrisSingleEnv(obs_type=\"lookahead\")\n",
                "# g_env = TetrisSingleEnv(obs_type=\"grid\")\n",
                "\n",
                "gs = g_env.reset()\n",
                "ls = lh_env.reset()\n",
                "print(gs.shape, type(gs))\n",
                "print(ls.shape, type(ls))\n",
                "# _convert_space(g_env.observation_space)\n",
                "# _convert_space(lh_env.observation_space)\n",
                "# print(g_env.observation_space)\n",
                "print(lh_env.observation_space)"
            ]
        },
        {
            "cell_type": "code",
            "execution_count": null,
            "metadata": {},
            "outputs": [],
            "source": [
                "from shimmy.openai_gym_compatibility import _convert_space\n",
                "lh_env = TetrisSingleEnv(obs_type=\"lookahead\")\n",
                "ls = lh_env.reset()\n",
                "print(lh_env.observation_space)"
            ]
        },
        {
            "cell_type": "code",
            "execution_count": 3,
            "metadata": {},
            "outputs": [
                {
                    "name": "stderr",
                    "output_type": "stream",
                    "text": [
                        "libpng warning: iCCP: known incorrect sRGB profile\n",
                        "libpng warning: iCCP: known incorrect sRGB profile\n",
                        "libpng warning: iCCP: known incorrect sRGB profile\n",
                        "libpng warning: iCCP: known incorrect sRGB profile\n",
                        "libpng warning: iCCP: known incorrect sRGB profile\n",
                        "libpng warning: iCCP: known incorrect sRGB profile\n",
                        "libpng warning: iCCP: known incorrect sRGB profile\n",
                        "libpng warning: iCCP: known incorrect sRGB profile\n",
                        "libpng warning: iCCP: known incorrect sRGB profile\n",
                        "libpng warning: iCCP: known incorrect sRGB profile\n",
                        "libpng warning: iCCP: known incorrect sRGB profile\n",
                        "libpng warning: iCCP: known incorrect sRGB profile\n",
                        "libpng warning: iCCP: known incorrect sRGB profile\n",
                        "libpng warning: iCCP: known incorrect sRGB profile\n",
                        "libpng warning: iCCP: known incorrect sRGB profile\n",
                        "libpng warning: iCCP: known incorrect sRGB profile\n",
                        "libpng warning: iCCP: known incorrect sRGB profile\n",
                        "/opt/miniconda3/envs/ECE_113_Capstone_1/lib/python3.10/site-packages/stable_baselines3/common/vec_env/patch_gym.py:49: UserWarning: You provided an OpenAI Gym environment. We strongly recommend transitioning to Gymnasium environments. Stable-Baselines3 is automatically wrapping your environments in a compatibility layer, which could potentially cause issues.\n",
                        "  warnings.warn(\n"
                    ]
                },
                {
                    "ename": "AttributeError",
                    "evalue": "module 'gym.spaces' has no attribute 'Sequence'",
                    "output_type": "error",
                    "traceback": [
                        "\u001b[0;31m---------------------------------------------------------------------------\u001b[0m",
                        "\u001b[0;31mAttributeError\u001b[0m                            Traceback (most recent call last)",
                        "Cell \u001b[0;32mIn[3], line 9\u001b[0m\n\u001b[1;32m      6\u001b[0m naked_env \u001b[38;5;241m=\u001b[39m TetrisSingleEnv(obs_type\u001b[38;5;241m=\u001b[39m\u001b[38;5;124m\"\u001b[39m\u001b[38;5;124mlookahead\u001b[39m\u001b[38;5;124m\"\u001b[39m)\n\u001b[1;32m      7\u001b[0m \u001b[38;5;66;03m# env = GrayScaleObservation(env, keep_dim=True)\u001b[39;00m\n\u001b[1;32m      8\u001b[0m \u001b[38;5;66;03m# env = MakeEensyWeensy(env, cut_in_half=True, scale=.25)\u001b[39;00m\n\u001b[0;32m----> 9\u001b[0m env \u001b[38;5;241m=\u001b[39m \u001b[43mDummyVecEnv\u001b[49m\u001b[43m(\u001b[49m\u001b[43m[\u001b[49m\u001b[38;5;28;43;01mlambda\u001b[39;49;00m\u001b[43m:\u001b[49m\u001b[43m \u001b[49m\u001b[43mnaked_env\u001b[49m\u001b[43m]\u001b[49m\u001b[43m)\u001b[49m\n\u001b[1;32m     10\u001b[0m \u001b[38;5;66;03m# env = VecFrameStack(env, 4, channels_order=\"last\")\u001b[39;00m\n",
                        "File \u001b[0;32m/opt/miniconda3/envs/ECE_113_Capstone_1/lib/python3.10/site-packages/stable_baselines3/common/vec_env/dummy_vec_env.py:30\u001b[0m, in \u001b[0;36mDummyVecEnv.__init__\u001b[0;34m(self, env_fns)\u001b[0m\n\u001b[1;32m     29\u001b[0m \u001b[38;5;28;01mdef\u001b[39;00m \u001b[38;5;21m__init__\u001b[39m(\u001b[38;5;28mself\u001b[39m, env_fns: List[Callable[[], gym\u001b[38;5;241m.\u001b[39mEnv]]):\n\u001b[0;32m---> 30\u001b[0m     \u001b[38;5;28mself\u001b[39m\u001b[38;5;241m.\u001b[39menvs \u001b[38;5;241m=\u001b[39m [_patch_env(fn()) \u001b[38;5;28;01mfor\u001b[39;00m fn \u001b[38;5;129;01min\u001b[39;00m env_fns]\n\u001b[1;32m     31\u001b[0m     \u001b[38;5;28;01mif\u001b[39;00m \u001b[38;5;28mlen\u001b[39m(\u001b[38;5;28mset\u001b[39m([\u001b[38;5;28mid\u001b[39m(env\u001b[38;5;241m.\u001b[39munwrapped) \u001b[38;5;28;01mfor\u001b[39;00m env \u001b[38;5;129;01min\u001b[39;00m \u001b[38;5;28mself\u001b[39m\u001b[38;5;241m.\u001b[39menvs])) \u001b[38;5;241m!=\u001b[39m \u001b[38;5;28mlen\u001b[39m(\u001b[38;5;28mself\u001b[39m\u001b[38;5;241m.\u001b[39menvs):\n\u001b[1;32m     32\u001b[0m         \u001b[38;5;28;01mraise\u001b[39;00m \u001b[38;5;167;01mValueError\u001b[39;00m(\n\u001b[1;32m     33\u001b[0m             \u001b[38;5;124m\"\u001b[39m\u001b[38;5;124mYou tried to create multiple environments, but the function to create them returned the same instance \u001b[39m\u001b[38;5;124m\"\u001b[39m\n\u001b[1;32m     34\u001b[0m             \u001b[38;5;124m\"\u001b[39m\u001b[38;5;124minstead of creating different objects. \u001b[39m\u001b[38;5;124m\"\u001b[39m\n\u001b[0;32m   (...)\u001b[0m\n\u001b[1;32m     39\u001b[0m             \u001b[38;5;124m\"\u001b[39m\u001b[38;5;124mPlease read https://github.com/DLR-RM/stable-baselines3/issues/1151 for more information.\u001b[39m\u001b[38;5;124m\"\u001b[39m\n\u001b[1;32m     40\u001b[0m         )\n",
                        "File \u001b[0;32m/opt/miniconda3/envs/ECE_113_Capstone_1/lib/python3.10/site-packages/stable_baselines3/common/vec_env/dummy_vec_env.py:30\u001b[0m, in \u001b[0;36m<listcomp>\u001b[0;34m(.0)\u001b[0m\n\u001b[1;32m     29\u001b[0m \u001b[38;5;28;01mdef\u001b[39;00m \u001b[38;5;21m__init__\u001b[39m(\u001b[38;5;28mself\u001b[39m, env_fns: List[Callable[[], gym\u001b[38;5;241m.\u001b[39mEnv]]):\n\u001b[0;32m---> 30\u001b[0m     \u001b[38;5;28mself\u001b[39m\u001b[38;5;241m.\u001b[39menvs \u001b[38;5;241m=\u001b[39m [\u001b[43m_patch_env\u001b[49m\u001b[43m(\u001b[49m\u001b[43mfn\u001b[49m\u001b[43m(\u001b[49m\u001b[43m)\u001b[49m\u001b[43m)\u001b[49m \u001b[38;5;28;01mfor\u001b[39;00m fn \u001b[38;5;129;01min\u001b[39;00m env_fns]\n\u001b[1;32m     31\u001b[0m     \u001b[38;5;28;01mif\u001b[39;00m \u001b[38;5;28mlen\u001b[39m(\u001b[38;5;28mset\u001b[39m([\u001b[38;5;28mid\u001b[39m(env\u001b[38;5;241m.\u001b[39munwrapped) \u001b[38;5;28;01mfor\u001b[39;00m env \u001b[38;5;129;01min\u001b[39;00m \u001b[38;5;28mself\u001b[39m\u001b[38;5;241m.\u001b[39menvs])) \u001b[38;5;241m!=\u001b[39m \u001b[38;5;28mlen\u001b[39m(\u001b[38;5;28mself\u001b[39m\u001b[38;5;241m.\u001b[39menvs):\n\u001b[1;32m     32\u001b[0m         \u001b[38;5;28;01mraise\u001b[39;00m \u001b[38;5;167;01mValueError\u001b[39;00m(\n\u001b[1;32m     33\u001b[0m             \u001b[38;5;124m\"\u001b[39m\u001b[38;5;124mYou tried to create multiple environments, but the function to create them returned the same instance \u001b[39m\u001b[38;5;124m\"\u001b[39m\n\u001b[1;32m     34\u001b[0m             \u001b[38;5;124m\"\u001b[39m\u001b[38;5;124minstead of creating different objects. \u001b[39m\u001b[38;5;124m\"\u001b[39m\n\u001b[0;32m   (...)\u001b[0m\n\u001b[1;32m     39\u001b[0m             \u001b[38;5;124m\"\u001b[39m\u001b[38;5;124mPlease read https://github.com/DLR-RM/stable-baselines3/issues/1151 for more information.\u001b[39m\u001b[38;5;124m\"\u001b[39m\n\u001b[1;32m     40\u001b[0m         )\n",
                        "File \u001b[0;32m/opt/miniconda3/envs/ECE_113_Capstone_1/lib/python3.10/site-packages/stable_baselines3/common/vec_env/patch_gym.py:60\u001b[0m, in \u001b[0;36m_patch_env\u001b[0;34m(env)\u001b[0m\n\u001b[1;32m     58\u001b[0m     \u001b[38;5;28;01mreturn\u001b[39;00m shimmy\u001b[38;5;241m.\u001b[39mGymV26CompatibilityV0(env\u001b[38;5;241m=\u001b[39menv)\n\u001b[1;32m     59\u001b[0m \u001b[38;5;66;03m# Gym 0.21 env\u001b[39;00m\n\u001b[0;32m---> 60\u001b[0m \u001b[38;5;28;01mreturn\u001b[39;00m \u001b[43mshimmy\u001b[49m\u001b[38;5;241;43m.\u001b[39;49m\u001b[43mGymV21CompatibilityV0\u001b[49m\u001b[43m(\u001b[49m\u001b[43menv\u001b[49m\u001b[38;5;241;43m=\u001b[39;49m\u001b[43menv\u001b[49m\u001b[43m)\u001b[49m\n",
                        "File \u001b[0;32m/opt/miniconda3/envs/ECE_113_Capstone_1/lib/python3.10/site-packages/shimmy/openai_gym_compatibility.py:198\u001b[0m, in \u001b[0;36mGymV21CompatibilityV0.__init__\u001b[0;34m(self, env_id, make_kwargs, env, render_mode)\u001b[0m\n\u001b[1;32m    194\u001b[0m \u001b[38;5;28;01melse\u001b[39;00m:\n\u001b[1;32m    195\u001b[0m     \u001b[38;5;28;01mraise\u001b[39;00m MissingArgument(\n\u001b[1;32m    196\u001b[0m         \u001b[38;5;124m\"\u001b[39m\u001b[38;5;124mEither env_id or env must be provided to create a legacy gym environment.\u001b[39m\u001b[38;5;124m\"\u001b[39m\n\u001b[1;32m    197\u001b[0m     )\n\u001b[0;32m--> 198\u001b[0m \u001b[38;5;28mself\u001b[39m\u001b[38;5;241m.\u001b[39mobservation_space \u001b[38;5;241m=\u001b[39m \u001b[43m_convert_space\u001b[49m\u001b[43m(\u001b[49m\u001b[43mgym_env\u001b[49m\u001b[38;5;241;43m.\u001b[39;49m\u001b[43mobservation_space\u001b[49m\u001b[43m)\u001b[49m\n\u001b[1;32m    199\u001b[0m \u001b[38;5;28mself\u001b[39m\u001b[38;5;241m.\u001b[39maction_space \u001b[38;5;241m=\u001b[39m _convert_space(gym_env\u001b[38;5;241m.\u001b[39maction_space)\n\u001b[1;32m    201\u001b[0m gym_env \u001b[38;5;241m=\u001b[39m _strip_default_wrappers(gym_env)\n",
                        "File \u001b[0;32m/opt/miniconda3/envs/ECE_113_Capstone_1/lib/python3.10/site-packages/shimmy/openai_gym_compatibility.py:319\u001b[0m, in \u001b[0;36m_convert_space\u001b[0;34m(space)\u001b[0m\n\u001b[1;32m    317\u001b[0m \u001b[38;5;28;01melif\u001b[39;00m \u001b[38;5;28misinstance\u001b[39m(space, gym\u001b[38;5;241m.\u001b[39mspaces\u001b[38;5;241m.\u001b[39mDict):\n\u001b[1;32m    318\u001b[0m     \u001b[38;5;28;01mreturn\u001b[39;00m Dict(spaces\u001b[38;5;241m=\u001b[39m{k: _convert_space(v) \u001b[38;5;28;01mfor\u001b[39;00m k, v \u001b[38;5;129;01min\u001b[39;00m space\u001b[38;5;241m.\u001b[39mspaces\u001b[38;5;241m.\u001b[39mitems()})\n\u001b[0;32m--> 319\u001b[0m \u001b[38;5;28;01melif\u001b[39;00m \u001b[38;5;28misinstance\u001b[39m(space, \u001b[43mgym\u001b[49m\u001b[38;5;241;43m.\u001b[39;49m\u001b[43mspaces\u001b[49m\u001b[38;5;241;43m.\u001b[39;49m\u001b[43mSequence\u001b[49m):\n\u001b[1;32m    320\u001b[0m     \u001b[38;5;28;01mreturn\u001b[39;00m Sequence(space\u001b[38;5;241m=\u001b[39m_convert_space(space\u001b[38;5;241m.\u001b[39mfeature_space))\n\u001b[1;32m    321\u001b[0m \u001b[38;5;28;01melif\u001b[39;00m \u001b[38;5;28misinstance\u001b[39m(space, gym\u001b[38;5;241m.\u001b[39mspaces\u001b[38;5;241m.\u001b[39mGraph):\n",
                        "\u001b[0;31mAttributeError\u001b[0m: module 'gym.spaces' has no attribute 'Sequence'"
                    ]
                }
            ],
            "source": [
                "from gym.wrappers import GrayScaleObservation\n",
                "from preprocessing.EensyWeensy import MakeEensyWeensy\n",
                "from stable_baselines3.common.vec_env import VecFrameStack, DummyVecEnv\n",
                "# from gym import make\n",
                "\n",
                "naked_env = TetrisSingleEnv(obs_type=\"lookahead\")\n",
                "# env = GrayScaleObservation(env, keep_dim=True)\n",
                "# env = MakeEensyWeensy(env, cut_in_half=True, scale=.25)\n",
                "env = DummyVecEnv([lambda: naked_env])\n",
                "# env = VecFrameStack(env, 4, channels_order=\"last\")"
            ]
        },
        {
            "cell_type": "code",
            "execution_count": 10,
            "metadata": {},
            "outputs": [],
            "source": [
                "# from Model.Feature_Extraction import TetisFeatureExtractor\n",
                "# feat_ex = TetisFeatureExtractor(gym.spaces.Box(0.0, 1.0, (20, 34), \"float32\"))"
            ]
        },
        {
            "cell_type": "code",
            "execution_count": 29,
            "metadata": {},
            "outputs": [
                {
                    "data": {
                        "text/plain": [
                            "(1, 1, 20, 34)"
                        ]
                    },
                    "execution_count": 29,
                    "metadata": {},
                    "output_type": "execute_result"
                }
            ],
            "source": [
                "ob,_,_,_ = env.step([0])\n",
                "ob.transpose(3, 0, 1, 2).shape"
            ]
        },
        {
            "cell_type": "code",
            "execution_count": 12,
            "metadata": {},
            "outputs": [],
            "source": [
                "# for i in range(0, 1000):\n",
                "#     action = env.random_action()\n",
                "#     state, reward, done, info = env.step(action)\n",
                "#     env.render()\n",
                "#     i += 1\n",
                "# env.close()"
            ]
        },
        {
            "cell_type": "code",
            "execution_count": 13,
            "metadata": {},
            "outputs": [
                {
                    "name": "stdout",
                    "output_type": "stream",
                    "text": [
                        "False\n"
                    ]
                },
                {
                    "name": "stderr",
                    "output_type": "stream",
                    "text": [
                        "libpng warning: iCCP: known incorrect sRGB profile\n",
                        "libpng warning: iCCP: known incorrect sRGB profile\n",
                        "libpng warning: iCCP: known incorrect sRGB profile\n",
                        "libpng warning: iCCP: known incorrect sRGB profile\n",
                        "libpng warning: iCCP: known incorrect sRGB profile\n",
                        "libpng warning: iCCP: known incorrect sRGB profile\n",
                        "libpng warning: iCCP: known incorrect sRGB profile\n",
                        "libpng warning: iCCP: known incorrect sRGB profile\n",
                        "libpng warning: iCCP: known incorrect sRGB profile\n",
                        "libpng warning: iCCP: known incorrect sRGB profile\n",
                        "libpng warning: iCCP: known incorrect sRGB profile\n",
                        "libpng warning: iCCP: known incorrect sRGB profile\n",
                        "libpng warning: iCCP: known incorrect sRGB profile\n",
                        "libpng warning: iCCP: known incorrect sRGB profile\n",
                        "libpng warning: iCCP: known incorrect sRGB profile\n",
                        "libpng warning: iCCP: known incorrect sRGB profile\n",
                        "libpng warning: iCCP: known incorrect sRGB profile\n"
                    ]
                },
                {
                    "ename": "AssertionError",
                    "evalue": "Your environment must inherit from the gymnasium.Env class cf. https://gymnasium.farama.org/api/env/",
                    "output_type": "error",
                    "traceback": [
                        "\u001b[0;31m---------------------------------------------------------------------------\u001b[0m",
                        "\u001b[0;31mAssertionError\u001b[0m                            Traceback (most recent call last)",
                        "Cell \u001b[0;32mIn[13], line 7\u001b[0m\n\u001b[1;32m      5\u001b[0m \u001b[38;5;28;01mimport\u001b[39;00m \u001b[38;5;21;01mtorch\u001b[39;00m\n\u001b[1;32m      6\u001b[0m \u001b[38;5;28mprint\u001b[39m(torch\u001b[38;5;241m.\u001b[39mcuda\u001b[38;5;241m.\u001b[39mis_available())\n\u001b[0;32m----> 7\u001b[0m \u001b[43mcheck_env\u001b[49m\u001b[43m(\u001b[49m\u001b[43mTetrisSingleEnv\u001b[49m\u001b[43m(\u001b[49m\u001b[43m)\u001b[49m\u001b[43m)\u001b[49m\n",
                        "File \u001b[0;32m/opt/miniconda3/envs/ECE_113_Capstone_1/lib/python3.10/site-packages/stable_baselines3/common/env_checker.py:409\u001b[0m, in \u001b[0;36mcheck_env\u001b[0;34m(env, warn, skip_render_check)\u001b[0m\n\u001b[1;32m    394\u001b[0m \u001b[38;5;28;01mdef\u001b[39;00m \u001b[38;5;21mcheck_env\u001b[39m(env: gym\u001b[38;5;241m.\u001b[39mEnv, warn: \u001b[38;5;28mbool\u001b[39m \u001b[38;5;241m=\u001b[39m \u001b[38;5;28;01mTrue\u001b[39;00m, skip_render_check: \u001b[38;5;28mbool\u001b[39m \u001b[38;5;241m=\u001b[39m \u001b[38;5;28;01mTrue\u001b[39;00m) \u001b[38;5;241m-\u001b[39m\u001b[38;5;241m>\u001b[39m \u001b[38;5;28;01mNone\u001b[39;00m:\n\u001b[1;32m    395\u001b[0m \u001b[38;5;250m    \u001b[39m\u001b[38;5;124;03m\"\"\"\u001b[39;00m\n\u001b[1;32m    396\u001b[0m \u001b[38;5;124;03m    Check that an environment follows Gym API.\u001b[39;00m\n\u001b[1;32m    397\u001b[0m \u001b[38;5;124;03m    This is particularly useful when using a custom environment.\u001b[39;00m\n\u001b[0;32m   (...)\u001b[0m\n\u001b[1;32m    407\u001b[0m \u001b[38;5;124;03m        True by default (useful for the CI)\u001b[39;00m\n\u001b[1;32m    408\u001b[0m \u001b[38;5;124;03m    \"\"\"\u001b[39;00m\n\u001b[0;32m--> 409\u001b[0m     \u001b[38;5;28;01massert\u001b[39;00m \u001b[38;5;28misinstance\u001b[39m(\n\u001b[1;32m    410\u001b[0m         env, gym\u001b[38;5;241m.\u001b[39mEnv\n\u001b[1;32m    411\u001b[0m     ), \u001b[38;5;124m\"\u001b[39m\u001b[38;5;124mYour environment must inherit from the gymnasium.Env class cf. https://gymnasium.farama.org/api/env/\u001b[39m\u001b[38;5;124m\"\u001b[39m\n\u001b[1;32m    413\u001b[0m     \u001b[38;5;66;03m# ============= Check the spaces (observation and action) ================\u001b[39;00m\n\u001b[1;32m    414\u001b[0m     _check_spaces(env)\n",
                        "\u001b[0;31mAssertionError\u001b[0m: Your environment must inherit from the gymnasium.Env class cf. https://gymnasium.farama.org/api/env/"
                    ]
                },
                {
                    "ename": "",
                    "evalue": "",
                    "output_type": "error",
                    "traceback": [
                        "\u001b[1;31mThe Kernel crashed while executing code in the current cell or a previous cell. \n",
                        "\u001b[1;31mPlease review the code in the cell(s) to identify a possible cause of the failure. \n",
                        "\u001b[1;31mClick <a href='https://aka.ms/vscodeJupyterKernelCrash'>here</a> for more info. \n",
                        "\u001b[1;31mView Jupyter <a href='command:jupyter.viewOutput'>log</a> for further details."
                    ]
                }
            ],
            "source": [
                "import os \n",
                "from stable_baselines3 import PPO\n",
                "from stable_baselines3.common.callbacks import BaseCallback\n",
                "from stable_baselines3.common.env_checker import check_env\n",
                "import torch\n",
                "print(torch.cuda.is_available())\n",
                "check_env(TetrisSingleEnv())"
            ]
        },
        {
            "cell_type": "code",
            "execution_count": null,
            "metadata": {},
            "outputs": [],
            "source": [
                "class TrainAndLoggingCallback(BaseCallback):\n",
                "\n",
                "    def __init__(self, check_freq, save_path, verbose=1):\n",
                "        super(TrainAndLoggingCallback, self).__init__(verbose)\n",
                "        self.check_freq = check_freq\n",
                "        self.save_path = save_path\n",
                "\n",
                "    def _init_callback(self):\n",
                "        if self.save_path is not None:\n",
                "            os.makedirs(self.save_path, exist_ok=True)\n",
                "\n",
                "    def _on_step(self):\n",
                "        if self.n_calls % self.check_freq == 0:\n",
                "            model_path = os.path.join(self.save_path, 'best_model_{}'.format(self.n_calls))\n",
                "            self.model.save(model_path)\n",
                "\n",
                "        return True"
            ]
        },
        {
            "cell_type": "code",
            "execution_count": null,
            "metadata": {},
            "outputs": [],
            "source": [
                "CHECKPOINT_DIR = './train/'\n",
                "LOG_DIR = './logs/'"
            ]
        },
        {
            "cell_type": "code",
            "execution_count": null,
            "metadata": {},
            "outputs": [],
            "source": [
                "callback = TrainAndLoggingCallback(check_freq=10000, save_path=CHECKPOINT_DIR)"
            ]
        },
        {
            "cell_type": "code",
            "execution_count": null,
            "metadata": {},
            "outputs": [],
            "source": [
                "try:\n",
                "    del model\n",
                "except NameError:\n",
                "    pass\n",
                "model = PPO(TetrisActorCriticCnnPolicy, env, verbose=1, tensorboard_log=LOG_DIR, learning_rate=1e-2, n_steps=32, device=\"cuda\") \n",
                "# TetrisActorCriticCnnPolicy"
            ]
        },
        {
            "cell_type": "code",
            "execution_count": null,
            "metadata": {},
            "outputs": [],
            "source": [
                "model.learn(total_timesteps=100000, callback=callback)"
            ]
        },
        {
            "cell_type": "code",
            "execution_count": null,
            "metadata": {},
            "outputs": [],
            "source": [
                "# model = PPO.load('./train/best_model_20000')\n",
                "test_env = TetrisSingleEnv(obs_type=\"grid\")\n",
                "state = test_env.reset()\n",
                "i = 0\n",
                "\n",
                "while True:\n",
                "    if (i >= 1000):\n",
                "        env.close()\n",
                "        break\n",
                "    action, _ = model.predict(state)\n",
                "    state, reward, done, info = test_env.step(action)\n",
                "    print(\"reward\", reward)\n",
                "    print(done)\n",
                "    test_env.render()\n",
                "    i += 1"
            ]
        },
        {
            "cell_type": "code",
            "execution_count": null,
            "metadata": {},
            "outputs": [],
            "source": [
                "state = naked_env.reset()\n",
                "print(state)\n",
                "print(model.predict(state))"
            ]
        },
        {
            "cell_type": "code",
            "execution_count": null,
            "metadata": {},
            "outputs": [],
            "source": []
        }
    ],
    "metadata": {
        "kernelspec": {
            "display_name": "Python 3 (ipykernel)",
            "language": "python",
            "name": "python3"
        },
        "language_info": {
            "codemirror_mode": {
                "name": "ipython",
                "version": 3
            },
            "file_extension": ".py",
            "mimetype": "text/x-python",
            "name": "python",
            "nbconvert_exporter": "python",
            "pygments_lexer": "ipython3",
            "version": "3.10.13"
        }
    },
    "nbformat": 4,
    "nbformat_minor": 4
}
