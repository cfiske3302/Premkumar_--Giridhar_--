{
 "cells": [
  {
   "cell_type": "code",
   "execution_count": 1,
   "metadata": {},
   "outputs": [
    {
     "name": "stdout",
     "output_type": "stream",
     "text": [
      "pygame 2.5.2 (SDL 2.28.3, Python 3.10.13)\n",
      "Hello from the pygame community. https://www.pygame.org/contribute.html\n"
     ]
    }
   ],
   "source": [
    "import numpy as np\n",
    "import sys\n",
    "import matplotlib.pyplot as plt\n",
    "\n",
    "sys.path.insert(0, './TetrisEnv')\n",
    "from TetrisBattle.envs.tetris_env import TetrisSingleEnv, TetrisEnv\n",
    "from TetrisBattle import *\n",
    "# %pip install -e ./TetrisEnv\n",
    "# import TetrisBattle\n",
    "%load_ext autoreload\n",
    "%autoreload 2\n",
    "from gym.wrappers import GrayScaleObservation\n",
    "from preprocessing.EensyWeensy import MakeEensyWeensy\n",
    "from stable_baselines3.common.vec_env import VecFrameStack, DummyVecEnv\n",
    "# from gym import make\n",
    "# env = make('SinglePTetris-v0')"
   ]
  },
  {
   "cell_type": "code",
   "execution_count": 2,
   "metadata": {},
   "outputs": [],
   "source": [
    "from gym import ActionWrapper\n",
    "from gym.spaces import Discrete\n",
    "class ReduceActions(ActionWrapper):\n",
    "    def __init__(self, env):\n",
    "        super().__init__(env)\n",
    "        ### Action Space Mappings: ###\n",
    "        # For shifting left and right #\n",
    "        # using clockwise rotation (3) #\n",
    "        # 6 left shifts at most #\n",
    "        # 4 right shifts at most #\n",
    "        self.ret_string = '0'\n",
    "        self.action_space = Discrete(44)\n",
    "\n",
    "    def shift(self, code):\n",
    "        # recenter the code to the center of the piece\n",
    "        code -= 6\n",
    "\n",
    "        # append to the action sequence\n",
    "        for i in range(abs(code)):\n",
    "            if code > 0:\n",
    "                self.ret_string += '5'\n",
    "            elif code < 0:\n",
    "                self.ret_string += '6'\n",
    "            else:\n",
    "                pass\n",
    "        return\n",
    "    \n",
    "    def rotate(self, code):\n",
    "        match code:\n",
    "            case 0: # keep current rotation\n",
    "                pass\n",
    "            case 1: # 1 cw\n",
    "                self.ret_string += '03'\n",
    "            case 2: # 2 cw\n",
    "                self.ret_string += '0303'\n",
    "            case 3: # 1 ccw\n",
    "                self.ret_string += '04'\n",
    "        return\n",
    "    \n",
    "    def action(self, act):\n",
    "        # reset the return string\n",
    "        self.ret_string = '0'\n",
    "\n",
    "        # rotation code is the 11s place\n",
    "        rotate_code = act // 11\n",
    "        # shift code is the 1s place\n",
    "        shift_code = act % 11\n",
    "\n",
    "        self.rotate(rotate_code)\n",
    "        self.shift(shift_code)\n",
    "\n",
    "        # append the force drop to the sequence\n",
    "        self.ret_string += '02'\n",
    "\n",
    "        # print(self.ret_string)\n",
    "        return self.ret_string\n"
   ]
  },
  {
   "cell_type": "code",
   "execution_count": 3,
   "metadata": {},
   "outputs": [],
   "source": [
    "# env = TetrisSingleEnv()\n",
    "# env = ReduceActions(env)\n",
    "# env.reset()\n",
    "# for i in range(1000):\n",
    "#     action = int(input('>'))\n",
    "#     # action = env.action_space.sample()\n",
    "#     # print(action)\n",
    "#     state, reward, done, info = env.step(action)\n",
    "#     if done:\n",
    "#         env.reset()\n",
    "#     env.render()\n",
    "\n",
    "# env.close()"
   ]
  },
  {
   "cell_type": "code",
   "execution_count": 4,
   "metadata": {},
   "outputs": [],
   "source": [
    "env = TetrisSingleEnv()\n",
    "env = GrayScaleObservation(env, keep_dim=True)\n",
    "env = MakeEensyWeensy(env, cut_in_half=True, scale=.25)\n",
    "env = ReduceActions(env)\n",
    "env = DummyVecEnv([lambda: env])\n",
    "env = VecFrameStack(env, 4, channels_order=\"last\")\n",
    "# ob = env.reset()\n",
    "# plt.imshow(ob, cmap=\"plasma\")"
   ]
  },
  {
   "cell_type": "code",
   "execution_count": 5,
   "metadata": {},
   "outputs": [
    {
     "name": "stdout",
     "output_type": "stream",
     "text": [
      "True\n"
     ]
    }
   ],
   "source": [
    "import os \n",
    "from stable_baselines3 import PPO\n",
    "from stable_baselines3.common.callbacks import BaseCallback\n",
    "from stable_baselines3.common.env_checker import check_env\n",
    "import torch\n",
    "print(torch.cuda.is_available())\n",
    "# check_env(env)"
   ]
  },
  {
   "cell_type": "code",
   "execution_count": 6,
   "metadata": {},
   "outputs": [],
   "source": [
    "class TrainAndLoggingCallback(BaseCallback):\n",
    "\n",
    "    def __init__(self, check_freq, save_path, verbose=1):\n",
    "        super(TrainAndLoggingCallback, self).__init__(verbose)\n",
    "        self.check_freq = check_freq\n",
    "        self.save_path = save_path\n",
    "\n",
    "    def _init_callback(self):\n",
    "        if self.save_path is not None:\n",
    "            os.makedirs(self.save_path, exist_ok=True)\n",
    "\n",
    "    def _on_step(self):\n",
    "        if self.n_calls % self.check_freq == 0:\n",
    "            model_path = os.path.join(self.save_path, 'best_model_{}'.format(self.n_calls))\n",
    "            self.model.save(model_path)\n",
    "\n",
    "        return True"
   ]
  },
  {
   "cell_type": "code",
   "execution_count": 7,
   "metadata": {},
   "outputs": [],
   "source": [
    "CHECKPOINT_DIR = './train/'\n",
    "LOG_DIR = './logs/'"
   ]
  },
  {
   "cell_type": "code",
   "execution_count": 8,
   "metadata": {},
   "outputs": [],
   "source": [
    "callback = TrainAndLoggingCallback(check_freq=10000, save_path=CHECKPOINT_DIR)"
   ]
  },
  {
   "cell_type": "code",
   "execution_count": 9,
   "metadata": {},
   "outputs": [
    {
     "name": "stdout",
     "output_type": "stream",
     "text": [
      "Using cuda device\n",
      "Wrapping the env in a VecTransposeImage.\n"
     ]
    }
   ],
   "source": [
    "try:\n",
    "    del model\n",
    "except NameError:\n",
    "    pass\n",
    "model = PPO('CnnPolicy', env, verbose=1, tensorboard_log=LOG_DIR, learning_rate=1e-4, n_steps=64, device=\"cuda\") \n",
    "# model = PPO.load('./train/cams100000')\n",
    "# model.set_env(env)"
   ]
  },
  {
   "cell_type": "code",
   "execution_count": 10,
   "metadata": {},
   "outputs": [],
   "source": [
    "# model.learn(total_timesteps=1000000, callback=callback)"
   ]
  },
  {
   "cell_type": "code",
   "execution_count": 11,
   "metadata": {},
   "outputs": [],
   "source": [
    "model = PPO.load('./train/best_model_90000')\n",
    "env = TetrisSingleEnv()\n",
    "env = GrayScaleObservation(env, keep_dim=True)\n",
    "env = MakeEensyWeensy(env, cut_in_half=True, scale=.25)\n",
    "env = ReduceActions(env)\n",
    "env = DummyVecEnv([lambda: env])\n",
    "env = VecFrameStack(env, 4, channels_order=\"last\")\n",
    "state = env.reset()\n",
    "\n",
    "for i in range(0, 10000):\n",
    "    action, _ = model.predict(state)\n",
    "    # action = env.action_space.sample()\n",
    "    # print(action)\n",
    "    state, reward, done, info = env.step(action)\n",
    "    env.render()\n",
    "\n",
    "env.close()"
   ]
  },
  {
   "cell_type": "code",
   "execution_count": null,
   "metadata": {},
   "outputs": [],
   "source": [
    "# class InputGetter():\n",
    "#     def __init__(self):\n",
    "#         self.input_log = []\n",
    "        \n",
    "#     def get_input(self):\n",
    "#         while True:\n",
    "#             try:\n",
    "#                 if len(self.input_log) == 0:\n",
    "#                     self.input_log = [*input(\">\")]\n",
    "                \n",
    "#                 inp = self.input_log.pop(0)\n",
    "#                 inp = int(inp)\n",
    "#                 assert(inp in [0, 1, 2, 3, 4, 5, 6, 7, 9])\n",
    "#                 return inp\n",
    "#             except Exception as e:\n",
    "#                 print(e)\n",
    "# env = TetrisSingleEnv(obs_type=\"grid\")\n",
    "# i = 0\n",
    "# inputter = InputGetter()\n",
    "# while True:\n",
    "#     action = inputter.get_input()\n",
    "#     if action == 9:\n",
    "#         env.close()\n",
    "#         break\n",
    "#     state, reward, done, info = env.step(action)\n",
    "#     # print(\"infow\", info)\n",
    "#     # print(\"rewrd\",reward)\n",
    "#     env.render()\n",
    "#     # print(env.game_interface.get_obs().shape)\n",
    "#     grid = env.game_interface.get_obs()"
   ]
  }
 ],
 "metadata": {
  "kernelspec": {
   "display_name": "Python 3 (ipykernel)",
   "language": "python",
   "name": "python3"
  },
  "language_info": {
   "codemirror_mode": {
    "name": "ipython",
    "version": 3
   },
   "file_extension": ".py",
   "mimetype": "text/x-python",
   "name": "python",
   "nbconvert_exporter": "python",
   "pygments_lexer": "ipython3",
   "version": "3.10.13"
  }
 },
 "nbformat": 4,
 "nbformat_minor": 4
}
